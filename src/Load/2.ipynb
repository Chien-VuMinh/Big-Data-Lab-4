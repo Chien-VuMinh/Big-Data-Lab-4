{
 "cells": [
  {
   "cell_type": "markdown",
   "metadata": {},
   "source": [
    "# Load"
   ]
  },
  {
   "cell_type": "markdown",
   "metadata": {},
   "source": [
    "- Import libraries"
   ]
  },
  {
   "cell_type": "code",
   "execution_count": 1,
   "metadata": {},
   "outputs": [],
   "source": [
    "from pyspark.sql import SparkSession\n",
    "from pyspark.sql.functions import from_json, col, explode, to_timestamp\n",
    "from pyspark.sql.types import StructType, StructField, StringType, ArrayType, FloatType\n",
    "from pymongo import MongoClient"
   ]
  },
  {
   "cell_type": "markdown",
   "metadata": {},
   "source": [
    "- Constants"
   ]
  },
  {
   "cell_type": "code",
   "execution_count": 2,
   "metadata": {},
   "outputs": [],
   "source": [
    "APP_NAME = \"KafkaToMongoDB\"\n",
    "KAFKA_BOOTSTRAP_SERVERS = \"localhost:9092\"\n",
    "KAFKA_TOPIC = \"btc-price-zscore\"\n",
    "MONGO_URI = \"mongodb://localhost:27017/\"\n",
    "MONGO_DB_NAME = \"btc_data\"\n",
    "SPARK_KAFKA_PACKAGE = \"org.apache.spark:spark-sql-kafka-0-10_2.12:3.1.2\""
   ]
  },
  {
   "cell_type": "markdown",
   "metadata": {},
   "source": [
    "- Spark Session"
   ]
  },
  {
   "cell_type": "code",
   "execution_count": 3,
   "metadata": {},
   "outputs": [
    {
     "name": "stderr",
     "output_type": "stream",
     "text": [
      "25/05/01 14:46:51 WARN Utils: Your hostname, acer resolves to a loopback address: 127.0.1.1; using 192.168.1.13 instead (on interface wlp0s20f3)\n",
      "25/05/01 14:46:51 WARN Utils: Set SPARK_LOCAL_IP if you need to bind to another address\n"
     ]
    },
    {
     "name": "stdout",
     "output_type": "stream",
     "text": [
      ":: loading settings :: url = jar:file:/usr/local/spark/jars/ivy-2.5.1.jar!/org/apache/ivy/core/settings/ivysettings.xml\n"
     ]
    },
    {
     "name": "stderr",
     "output_type": "stream",
     "text": [
      "Ivy Default Cache set to: /home/dang/.ivy2/cache\n",
      "The jars for the packages stored in: /home/dang/.ivy2/jars\n",
      "org.apache.spark#spark-sql-kafka-0-10_2.12 added as a dependency\n",
      ":: resolving dependencies :: org.apache.spark#spark-submit-parent-c18f40e6-c57e-41ad-8213-4255029c2841;1.0\n",
      "\tconfs: [default]\n",
      "\tfound org.apache.spark#spark-sql-kafka-0-10_2.12;3.1.2 in central\n",
      "\tfound org.apache.spark#spark-token-provider-kafka-0-10_2.12;3.1.2 in central\n",
      "\tfound org.apache.kafka#kafka-clients;2.6.0 in central\n",
      "\tfound com.github.luben#zstd-jni;1.4.8-1 in central\n",
      "\tfound org.lz4#lz4-java;1.7.1 in central\n",
      "\tfound org.xerial.snappy#snappy-java;1.1.8.2 in central\n",
      "\tfound org.slf4j#slf4j-api;1.7.30 in central\n",
      "\tfound org.spark-project.spark#unused;1.0.0 in central\n",
      "\tfound org.apache.commons#commons-pool2;2.6.2 in central\n",
      ":: resolution report :: resolve 379ms :: artifacts dl 9ms\n",
      "\t:: modules in use:\n",
      "\tcom.github.luben#zstd-jni;1.4.8-1 from central in [default]\n",
      "\torg.apache.commons#commons-pool2;2.6.2 from central in [default]\n",
      "\torg.apache.kafka#kafka-clients;2.6.0 from central in [default]\n",
      "\torg.apache.spark#spark-sql-kafka-0-10_2.12;3.1.2 from central in [default]\n",
      "\torg.apache.spark#spark-token-provider-kafka-0-10_2.12;3.1.2 from central in [default]\n",
      "\torg.lz4#lz4-java;1.7.1 from central in [default]\n",
      "\torg.slf4j#slf4j-api;1.7.30 from central in [default]\n",
      "\torg.spark-project.spark#unused;1.0.0 from central in [default]\n",
      "\torg.xerial.snappy#snappy-java;1.1.8.2 from central in [default]\n",
      "\t---------------------------------------------------------------------\n",
      "\t|                  |            modules            ||   artifacts   |\n",
      "\t|       conf       | number| search|dwnlded|evicted|| number|dwnlded|\n",
      "\t---------------------------------------------------------------------\n",
      "\t|      default     |   9   |   0   |   0   |   0   ||   9   |   0   |\n",
      "\t---------------------------------------------------------------------\n",
      ":: retrieving :: org.apache.spark#spark-submit-parent-c18f40e6-c57e-41ad-8213-4255029c2841\n",
      "\tconfs: [default]\n",
      "\t0 artifacts copied, 9 already retrieved (0kB/7ms)\n",
      "25/05/01 14:46:52 WARN NativeCodeLoader: Unable to load native-hadoop library for your platform... using builtin-java classes where applicable\n",
      "Setting default log level to \"WARN\".\n",
      "To adjust logging level use sc.setLogLevel(newLevel). For SparkR, use setLogLevel(newLevel).\n"
     ]
    }
   ],
   "source": [
    "spark = SparkSession.builder \\\n",
    "    .appName(APP_NAME) \\\n",
    "    .config(\"spark.jars.packages\", SPARK_KAFKA_PACKAGE) \\\n",
    "    .getOrCreate()\n",
    "\n",
    "spark.sparkContext.setLogLevel(\"WARN\")"
   ]
  },
  {
   "cell_type": "markdown",
   "metadata": {},
   "source": [
    "- Schema"
   ]
  },
  {
   "cell_type": "code",
   "execution_count": 4,
   "metadata": {},
   "outputs": [],
   "source": [
    "schema = StructType([\n",
    "    StructField(\"timestamp\", StringType(), True),\n",
    "    StructField(\"symbol\", StringType(), True),\n",
    "    StructField(\"zscore_data\", ArrayType(StructType([\n",
    "        StructField(\"window\", StringType(), True),\n",
    "        StructField(\"zscore_price\", FloatType(), True)\n",
    "    ])), True)\n",
    "])"
   ]
  },
  {
   "cell_type": "markdown",
   "metadata": {},
   "source": [
    "- Read from Kafka"
   ]
  },
  {
   "cell_type": "code",
   "execution_count": 5,
   "metadata": {},
   "outputs": [],
   "source": [
    "kafka_df = spark.readStream \\\n",
    "    .format(\"kafka\") \\\n",
    "    .option(\"kafka.bootstrap.servers\", KAFKA_BOOTSTRAP_SERVERS) \\\n",
    "    .option(\"subscribe\", KAFKA_TOPIC) \\\n",
    "    .option(\"startingOffsets\", \"latest\") \\\n",
    "    .load()"
   ]
  },
  {
   "cell_type": "markdown",
   "metadata": {},
   "source": [
    "- Data Processing"
   ]
  },
  {
   "cell_type": "code",
   "execution_count": 6,
   "metadata": {},
   "outputs": [],
   "source": [
    "# parse the JSON data from Kafka\n",
    "json_df = kafka_df.selectExpr(\"CAST(value AS STRING) as value\") \\\n",
    "    .select(from_json(col(\"value\"), schema).alias(\"data\")) \\\n",
    "    .select(\"data.*\")\n",
    "\n",
    "# explode the zscore_data array and convert timestamp to a proper format\n",
    "expanded_df = json_df.withColumn(\"zscore\", explode(\"zscore_data\")) \\\n",
    "    .withColumn(\"event_time\", to_timestamp(\"timestamp\")) \\\n",
    "    .select(\n",
    "        col(\"timestamp\"),\n",
    "        col(\"symbol\"),\n",
    "        col(\"zscore.window\").alias(\"window\"),\n",
    "        col(\"zscore.zscore_price\").alias(\"zscore_price\"),\n",
    "        col(\"event_time\")\n",
    "    )"
   ]
  },
  {
   "cell_type": "markdown",
   "metadata": {},
   "source": [
    "- Handling late data (10 second)"
   ]
  },
  {
   "cell_type": "code",
   "execution_count": 7,
   "metadata": {},
   "outputs": [],
   "source": [
    "watermarked_df = expanded_df.withWatermark(\"event_time\", \"10 seconds\")"
   ]
  },
  {
   "cell_type": "markdown",
   "metadata": {},
   "source": [
    "- Write to MongoDB"
   ]
  },
  {
   "cell_type": "code",
   "execution_count": null,
   "metadata": {},
   "outputs": [],
   "source": [
    "def write_to_mongo(df, epoch_id):\n",
    "    client = MongoClient(MONGO_URI)\n",
    "    db = client[MONGO_DB_NAME]\n",
    "    for row in df.collect():\n",
    "        collection_name = f\"{KAFKA_TOPIC}-{row['window']}\"\n",
    "        document = {\n",
    "            \"timestamp\": row[\"timestamp\"],\n",
    "            \"symbol\": row[\"symbol\"],\n",
    "            \"window\": row[\"window\"],\n",
    "            \"zscore_price\": row[\"zscore_price\"]\n",
    "        }\n",
    "        db[collection_name].insert_one(document)\n",
    "        print(f\"[Epoch {epoch_id}] Ghi vào {collection_name}: {document}\")"
   ]
  },
  {
   "cell_type": "markdown",
   "metadata": {},
   "source": [
    "- Run"
   ]
  },
  {
   "cell_type": "code",
   "execution_count": null,
   "metadata": {},
   "outputs": [
    {
     "name": "stderr",
     "output_type": "stream",
     "text": [
      "25/05/01 14:46:56 WARN ResolveWriteToStream: Temporary checkpoint location created which is deleted normally when the query didn't fail: /tmp/temporary-a44b267e-e35b-47bc-80f8-f6bf2cabbe4f. If it's required to delete it under any circumstances, please set spark.sql.streaming.forceDeleteTempCheckpointLocation to true. Important to know deleting temp checkpoint folder is best effort.\n",
      "25/05/01 14:46:56 WARN ResolveWriteToStream: spark.sql.adaptive.enabled is not supported in streaming DataFrames/Datasets and will be disabled.\n",
      "25/05/01 14:46:56 WARN AdminClientConfig: The configuration 'key.deserializer' was supplied but isn't a known config.\n",
      "25/05/01 14:46:56 WARN AdminClientConfig: The configuration 'value.deserializer' was supplied but isn't a known config.\n",
      "25/05/01 14:46:56 WARN AdminClientConfig: The configuration 'enable.auto.commit' was supplied but isn't a known config.\n",
      "25/05/01 14:46:56 WARN AdminClientConfig: The configuration 'max.poll.records' was supplied but isn't a known config.\n",
      "25/05/01 14:46:56 WARN AdminClientConfig: The configuration 'auto.offset.reset' was supplied but isn't a known config.\n",
      "                                                                                \r"
     ]
    },
    {
     "name": "stdout",
     "output_type": "stream",
     "text": [
      "[Epoch 1] Ghi vào btc-price-zscore-30s: {'timestamp': '2025-05-01T07:47:03.941445', 'symbol': 'BTCUSDT', 'window': '30s', 'zscore_price': -0.8019999861717224, '_id': ObjectId('681326f94019f532f7e288af')}\n",
      "[Epoch 1] Ghi vào btc-price-zscore-1m: {'timestamp': '2025-05-01T07:47:03.941445', 'symbol': 'BTCUSDT', 'window': '1m', 'zscore_price': 1.8880000114440918, '_id': ObjectId('681326f94019f532f7e288b0')}\n",
      "[Epoch 1] Ghi vào btc-price-zscore-5m: {'timestamp': '2025-05-01T07:47:03.941445', 'symbol': 'BTCUSDT', 'window': '5m', 'zscore_price': -0.006000000052154064, '_id': ObjectId('681326f94019f532f7e288b1')}\n",
      "[Epoch 1] Ghi vào btc-price-zscore-15m: {'timestamp': '2025-05-01T07:47:03.941445', 'symbol': 'BTCUSDT', 'window': '15m', 'zscore_price': 2.2809998989105225, '_id': ObjectId('681326f94019f532f7e288b2')}\n",
      "[Epoch 1] Ghi vào btc-price-zscore-30m: {'timestamp': '2025-05-01T07:47:03.941445', 'symbol': 'BTCUSDT', 'window': '30m', 'zscore_price': -0.6499999761581421, '_id': ObjectId('681326f94019f532f7e288b3')}\n",
      "[Epoch 1] Ghi vào btc-price-zscore-1h: {'timestamp': '2025-05-01T07:47:03.941445', 'symbol': 'BTCUSDT', 'window': '1h', 'zscore_price': 0.16899999976158142, '_id': ObjectId('681326f94019f532f7e288b4')}\n",
      "[Epoch 2] Ghi vào btc-price-zscore-30s: {'timestamp': '2025-05-01T07:47:13.942194', 'symbol': 'BTCUSDT', 'window': '30s', 'zscore_price': 0.9039999842643738, '_id': ObjectId('681327024019f532f7e288b6')}\n",
      "[Epoch 2] Ghi vào btc-price-zscore-1m: {'timestamp': '2025-05-01T07:47:13.942194', 'symbol': 'BTCUSDT', 'window': '1m', 'zscore_price': -0.5809999704360962, '_id': ObjectId('681327024019f532f7e288b7')}\n",
      "[Epoch 2] Ghi vào btc-price-zscore-5m: {'timestamp': '2025-05-01T07:47:13.942194', 'symbol': 'BTCUSDT', 'window': '5m', 'zscore_price': -1.8530000448226929, '_id': ObjectId('681327024019f532f7e288b8')}\n",
      "[Epoch 2] Ghi vào btc-price-zscore-15m: {'timestamp': '2025-05-01T07:47:13.942194', 'symbol': 'BTCUSDT', 'window': '15m', 'zscore_price': 0.6840000152587891, '_id': ObjectId('681327024019f532f7e288b9')}\n",
      "[Epoch 2] Ghi vào btc-price-zscore-30m: {'timestamp': '2025-05-01T07:47:13.942194', 'symbol': 'BTCUSDT', 'window': '30m', 'zscore_price': 1.8020000457763672, '_id': ObjectId('681327024019f532f7e288ba')}\n",
      "[Epoch 2] Ghi vào btc-price-zscore-1h: {'timestamp': '2025-05-01T07:47:13.942194', 'symbol': 'BTCUSDT', 'window': '1h', 'zscore_price': 1.284999966621399, '_id': ObjectId('681327024019f532f7e288bb')}\n"
     ]
    },
    {
     "name": "stderr",
     "output_type": "stream",
     "text": [
      "                                                                                \r"
     ]
    },
    {
     "name": "stdout",
     "output_type": "stream",
     "text": [
      "[Epoch 3] Ghi vào btc-price-zscore-30s: {'timestamp': '2025-05-01T07:47:23.942580', 'symbol': 'BTCUSDT', 'window': '30s', 'zscore_price': 2.359999895095825, '_id': ObjectId('6813270c4019f532f7e288bd')}\n",
      "[Epoch 3] Ghi vào btc-price-zscore-1m: {'timestamp': '2025-05-01T07:47:23.942580', 'symbol': 'BTCUSDT', 'window': '1m', 'zscore_price': 1.4859999418258667, '_id': ObjectId('6813270c4019f532f7e288be')}\n",
      "[Epoch 3] Ghi vào btc-price-zscore-5m: {'timestamp': '2025-05-01T07:47:23.942580', 'symbol': 'BTCUSDT', 'window': '5m', 'zscore_price': 1.0800000429153442, '_id': ObjectId('6813270c4019f532f7e288bf')}\n",
      "[Epoch 3] Ghi vào btc-price-zscore-15m: {'timestamp': '2025-05-01T07:47:23.942580', 'symbol': 'BTCUSDT', 'window': '15m', 'zscore_price': -0.8679999709129333, '_id': ObjectId('6813270c4019f532f7e288c0')}\n",
      "[Epoch 3] Ghi vào btc-price-zscore-30m: {'timestamp': '2025-05-01T07:47:23.942580', 'symbol': 'BTCUSDT', 'window': '30m', 'zscore_price': 1.2239999771118164, '_id': ObjectId('6813270c4019f532f7e288c1')}\n",
      "[Epoch 3] Ghi vào btc-price-zscore-1h: {'timestamp': '2025-05-01T07:47:23.942580', 'symbol': 'BTCUSDT', 'window': '1h', 'zscore_price': -1.406999945640564, '_id': ObjectId('6813270c4019f532f7e288c2')}\n",
      "[Epoch 4] Ghi vào btc-price-zscore-30s: {'timestamp': '2025-05-01T07:47:33.943190', 'symbol': 'BTCUSDT', 'window': '30s', 'zscore_price': -0.7789999842643738, '_id': ObjectId('681327164019f532f7e288c4')}\n",
      "[Epoch 4] Ghi vào btc-price-zscore-1m: {'timestamp': '2025-05-01T07:47:33.943190', 'symbol': 'BTCUSDT', 'window': '1m', 'zscore_price': -0.800000011920929, '_id': ObjectId('681327164019f532f7e288c5')}\n",
      "[Epoch 4] Ghi vào btc-price-zscore-5m: {'timestamp': '2025-05-01T07:47:33.943190', 'symbol': 'BTCUSDT', 'window': '5m', 'zscore_price': 2.2690000534057617, '_id': ObjectId('681327164019f532f7e288c6')}\n",
      "[Epoch 4] Ghi vào btc-price-zscore-15m: {'timestamp': '2025-05-01T07:47:33.943190', 'symbol': 'BTCUSDT', 'window': '15m', 'zscore_price': -0.38999998569488525, '_id': ObjectId('681327164019f532f7e288c7')}\n",
      "[Epoch 4] Ghi vào btc-price-zscore-30m: {'timestamp': '2025-05-01T07:47:33.943190', 'symbol': 'BTCUSDT', 'window': '30m', 'zscore_price': 1.4980000257492065, '_id': ObjectId('681327164019f532f7e288c8')}\n",
      "[Epoch 4] Ghi vào btc-price-zscore-1h: {'timestamp': '2025-05-01T07:47:33.943190', 'symbol': 'BTCUSDT', 'window': '1h', 'zscore_price': -2.371000051498413, '_id': ObjectId('681327164019f532f7e288c9')}\n",
      "[Epoch 5] Ghi vào btc-price-zscore-30s: {'timestamp': '2025-05-01T07:47:43.943555', 'symbol': 'BTCUSDT', 'window': '30s', 'zscore_price': 1.3359999656677246, '_id': ObjectId('681327204019f532f7e288cb')}\n",
      "[Epoch 5] Ghi vào btc-price-zscore-1m: {'timestamp': '2025-05-01T07:47:43.943555', 'symbol': 'BTCUSDT', 'window': '1m', 'zscore_price': -0.017000000923871994, '_id': ObjectId('681327204019f532f7e288cc')}\n",
      "[Epoch 5] Ghi vào btc-price-zscore-5m: {'timestamp': '2025-05-01T07:47:43.943555', 'symbol': 'BTCUSDT', 'window': '5m', 'zscore_price': 0.6489999890327454, '_id': ObjectId('681327204019f532f7e288cd')}\n",
      "[Epoch 5] Ghi vào btc-price-zscore-15m: {'timestamp': '2025-05-01T07:47:43.943555', 'symbol': 'BTCUSDT', 'window': '15m', 'zscore_price': -0.0949999988079071, '_id': ObjectId('681327204019f532f7e288ce')}\n",
      "[Epoch 5] Ghi vào btc-price-zscore-30m: {'timestamp': '2025-05-01T07:47:43.943555', 'symbol': 'BTCUSDT', 'window': '30m', 'zscore_price': -1.7259999513626099, '_id': ObjectId('681327204019f532f7e288cf')}\n",
      "[Epoch 5] Ghi vào btc-price-zscore-1h: {'timestamp': '2025-05-01T07:47:43.943555', 'symbol': 'BTCUSDT', 'window': '1h', 'zscore_price': 0.3970000147819519, '_id': ObjectId('681327204019f532f7e288d0')}\n",
      "[Epoch 6] Ghi vào btc-price-zscore-30s: {'timestamp': '2025-05-01T07:47:53.944266', 'symbol': 'BTCUSDT', 'window': '30s', 'zscore_price': 0.7129999995231628, '_id': ObjectId('6813272a4019f532f7e288d2')}\n",
      "[Epoch 6] Ghi vào btc-price-zscore-1m: {'timestamp': '2025-05-01T07:47:53.944266', 'symbol': 'BTCUSDT', 'window': '1m', 'zscore_price': -0.8640000224113464, '_id': ObjectId('6813272a4019f532f7e288d3')}\n",
      "[Epoch 6] Ghi vào btc-price-zscore-5m: {'timestamp': '2025-05-01T07:47:53.944266', 'symbol': 'BTCUSDT', 'window': '5m', 'zscore_price': -0.2980000078678131, '_id': ObjectId('6813272a4019f532f7e288d4')}\n",
      "[Epoch 6] Ghi vào btc-price-zscore-15m: {'timestamp': '2025-05-01T07:47:53.944266', 'symbol': 'BTCUSDT', 'window': '15m', 'zscore_price': -1.6200000047683716, '_id': ObjectId('6813272a4019f532f7e288d5')}\n",
      "[Epoch 6] Ghi vào btc-price-zscore-30m: {'timestamp': '2025-05-01T07:47:53.944266', 'symbol': 'BTCUSDT', 'window': '30m', 'zscore_price': -1.7910000085830688, '_id': ObjectId('6813272a4019f532f7e288d6')}\n",
      "[Epoch 6] Ghi vào btc-price-zscore-1h: {'timestamp': '2025-05-01T07:47:53.944266', 'symbol': 'BTCUSDT', 'window': '1h', 'zscore_price': 0.22699999809265137, '_id': ObjectId('6813272a4019f532f7e288d7')}\n",
      "[Epoch 7] Ghi vào btc-price-zscore-30s: {'timestamp': '2025-05-01T07:48:03.944555', 'symbol': 'BTCUSDT', 'window': '30s', 'zscore_price': -0.3630000054836273, '_id': ObjectId('681327344019f532f7e288d9')}\n",
      "[Epoch 7] Ghi vào btc-price-zscore-1m: {'timestamp': '2025-05-01T07:48:03.944555', 'symbol': 'BTCUSDT', 'window': '1m', 'zscore_price': 0.7200000286102295, '_id': ObjectId('681327344019f532f7e288da')}\n",
      "[Epoch 7] Ghi vào btc-price-zscore-5m: {'timestamp': '2025-05-01T07:48:03.944555', 'symbol': 'BTCUSDT', 'window': '5m', 'zscore_price': 0.718999981880188, '_id': ObjectId('681327344019f532f7e288db')}\n",
      "[Epoch 7] Ghi vào btc-price-zscore-15m: {'timestamp': '2025-05-01T07:48:03.944555', 'symbol': 'BTCUSDT', 'window': '15m', 'zscore_price': 2.171999931335449, '_id': ObjectId('681327344019f532f7e288dc')}\n",
      "[Epoch 7] Ghi vào btc-price-zscore-30m: {'timestamp': '2025-05-01T07:48:03.944555', 'symbol': 'BTCUSDT', 'window': '30m', 'zscore_price': -1.6649999618530273, '_id': ObjectId('681327344019f532f7e288dd')}\n",
      "[Epoch 7] Ghi vào btc-price-zscore-1h: {'timestamp': '2025-05-01T07:48:03.944555', 'symbol': 'BTCUSDT', 'window': '1h', 'zscore_price': -0.1889999955892563, '_id': ObjectId('681327344019f532f7e288de')}\n",
      "[Epoch 8] Ghi vào btc-price-zscore-30s: {'timestamp': '2025-05-01T07:48:13.945292', 'symbol': 'BTCUSDT', 'window': '30s', 'zscore_price': -2.2960000038146973, '_id': ObjectId('6813273e4019f532f7e288e0')}\n",
      "[Epoch 8] Ghi vào btc-price-zscore-1m: {'timestamp': '2025-05-01T07:48:13.945292', 'symbol': 'BTCUSDT', 'window': '1m', 'zscore_price': 1.4609999656677246, '_id': ObjectId('6813273e4019f532f7e288e1')}\n",
      "[Epoch 8] Ghi vào btc-price-zscore-5m: {'timestamp': '2025-05-01T07:48:13.945292', 'symbol': 'BTCUSDT', 'window': '5m', 'zscore_price': -1.809000015258789, '_id': ObjectId('6813273e4019f532f7e288e2')}\n",
      "[Epoch 8] Ghi vào btc-price-zscore-15m: {'timestamp': '2025-05-01T07:48:13.945292', 'symbol': 'BTCUSDT', 'window': '15m', 'zscore_price': 0.8299999833106995, '_id': ObjectId('6813273e4019f532f7e288e3')}\n",
      "[Epoch 8] Ghi vào btc-price-zscore-30m: {'timestamp': '2025-05-01T07:48:13.945292', 'symbol': 'BTCUSDT', 'window': '30m', 'zscore_price': -0.8659999966621399, '_id': ObjectId('6813273e4019f532f7e288e4')}\n",
      "[Epoch 8] Ghi vào btc-price-zscore-1h: {'timestamp': '2025-05-01T07:48:13.945292', 'symbol': 'BTCUSDT', 'window': '1h', 'zscore_price': 1.1779999732971191, '_id': ObjectId('6813273e4019f532f7e288e5')}\n",
      "[Epoch 9] Ghi vào btc-price-zscore-30s: {'timestamp': '2025-05-01T07:48:23.946656', 'symbol': 'BTCUSDT', 'window': '30s', 'zscore_price': 1.4270000457763672, '_id': ObjectId('681327484019f532f7e288e7')}\n",
      "[Epoch 9] Ghi vào btc-price-zscore-1m: {'timestamp': '2025-05-01T07:48:23.946656', 'symbol': 'BTCUSDT', 'window': '1m', 'zscore_price': 2.059999942779541, '_id': ObjectId('681327484019f532f7e288e8')}\n",
      "[Epoch 9] Ghi vào btc-price-zscore-5m: {'timestamp': '2025-05-01T07:48:23.946656', 'symbol': 'BTCUSDT', 'window': '5m', 'zscore_price': 1.5119999647140503, '_id': ObjectId('681327484019f532f7e288e9')}\n",
      "[Epoch 9] Ghi vào btc-price-zscore-15m: {'timestamp': '2025-05-01T07:48:23.946656', 'symbol': 'BTCUSDT', 'window': '15m', 'zscore_price': -0.20800000429153442, '_id': ObjectId('681327484019f532f7e288ea')}\n",
      "[Epoch 9] Ghi vào btc-price-zscore-30m: {'timestamp': '2025-05-01T07:48:23.946656', 'symbol': 'BTCUSDT', 'window': '30m', 'zscore_price': -0.7910000085830688, '_id': ObjectId('681327484019f532f7e288eb')}\n",
      "[Epoch 9] Ghi vào btc-price-zscore-1h: {'timestamp': '2025-05-01T07:48:23.946656', 'symbol': 'BTCUSDT', 'window': '1h', 'zscore_price': -1.975000023841858, '_id': ObjectId('681327484019f532f7e288ec')}\n",
      "[Epoch 10] Ghi vào btc-price-zscore-30s: {'timestamp': '2025-05-01T07:48:33.947094', 'symbol': 'BTCUSDT', 'window': '30s', 'zscore_price': 1.149999976158142, '_id': ObjectId('681327524019f532f7e288ee')}\n",
      "[Epoch 10] Ghi vào btc-price-zscore-1m: {'timestamp': '2025-05-01T07:48:33.947094', 'symbol': 'BTCUSDT', 'window': '1m', 'zscore_price': -1.1009999513626099, '_id': ObjectId('681327524019f532f7e288ef')}\n",
      "[Epoch 10] Ghi vào btc-price-zscore-5m: {'timestamp': '2025-05-01T07:48:33.947094', 'symbol': 'BTCUSDT', 'window': '5m', 'zscore_price': 0.5680000185966492, '_id': ObjectId('681327524019f532f7e288f0')}\n",
      "[Epoch 10] Ghi vào btc-price-zscore-15m: {'timestamp': '2025-05-01T07:48:33.947094', 'symbol': 'BTCUSDT', 'window': '15m', 'zscore_price': 1.7890000343322754, '_id': ObjectId('681327524019f532f7e288f1')}\n",
      "[Epoch 10] Ghi vào btc-price-zscore-30m: {'timestamp': '2025-05-01T07:48:33.947094', 'symbol': 'BTCUSDT', 'window': '30m', 'zscore_price': 0.0729999989271164, '_id': ObjectId('681327524019f532f7e288f2')}\n",
      "[Epoch 10] Ghi vào btc-price-zscore-1h: {'timestamp': '2025-05-01T07:48:33.947094', 'symbol': 'BTCUSDT', 'window': '1h', 'zscore_price': 0.9660000205039978, '_id': ObjectId('681327524019f532f7e288f3')}\n",
      "[Epoch 11] Ghi vào btc-price-zscore-30s: {'timestamp': '2025-05-01T07:48:43.948245', 'symbol': 'BTCUSDT', 'window': '30s', 'zscore_price': 2.24399995803833, '_id': ObjectId('6813275c4019f532f7e288f5')}\n",
      "[Epoch 11] Ghi vào btc-price-zscore-1m: {'timestamp': '2025-05-01T07:48:43.948245', 'symbol': 'BTCUSDT', 'window': '1m', 'zscore_price': -2.4779999256134033, '_id': ObjectId('6813275c4019f532f7e288f6')}\n",
      "[Epoch 11] Ghi vào btc-price-zscore-5m: {'timestamp': '2025-05-01T07:48:43.948245', 'symbol': 'BTCUSDT', 'window': '5m', 'zscore_price': 2.453000068664551, '_id': ObjectId('6813275c4019f532f7e288f7')}\n",
      "[Epoch 11] Ghi vào btc-price-zscore-15m: {'timestamp': '2025-05-01T07:48:43.948245', 'symbol': 'BTCUSDT', 'window': '15m', 'zscore_price': -1.3259999752044678, '_id': ObjectId('6813275c4019f532f7e288f8')}\n",
      "[Epoch 11] Ghi vào btc-price-zscore-30m: {'timestamp': '2025-05-01T07:48:43.948245', 'symbol': 'BTCUSDT', 'window': '30m', 'zscore_price': -0.8429999947547913, '_id': ObjectId('6813275c4019f532f7e288f9')}\n",
      "[Epoch 11] Ghi vào btc-price-zscore-1h: {'timestamp': '2025-05-01T07:48:43.948245', 'symbol': 'BTCUSDT', 'window': '1h', 'zscore_price': 0.871999979019165, '_id': ObjectId('6813275c4019f532f7e288fa')}\n",
      "[Epoch 12] Ghi vào btc-price-zscore-30s: {'timestamp': '2025-05-01T07:48:53.952352', 'symbol': 'BTCUSDT', 'window': '30s', 'zscore_price': 0.31700000166893005, '_id': ObjectId('681327664019f532f7e288fc')}\n",
      "[Epoch 12] Ghi vào btc-price-zscore-1m: {'timestamp': '2025-05-01T07:48:53.952352', 'symbol': 'BTCUSDT', 'window': '1m', 'zscore_price': -1.215999960899353, '_id': ObjectId('681327664019f532f7e288fd')}\n",
      "[Epoch 12] Ghi vào btc-price-zscore-5m: {'timestamp': '2025-05-01T07:48:53.952352', 'symbol': 'BTCUSDT', 'window': '5m', 'zscore_price': -0.7720000147819519, '_id': ObjectId('681327664019f532f7e288fe')}\n",
      "[Epoch 12] Ghi vào btc-price-zscore-15m: {'timestamp': '2025-05-01T07:48:53.952352', 'symbol': 'BTCUSDT', 'window': '15m', 'zscore_price': 1.777999997138977, '_id': ObjectId('681327664019f532f7e288ff')}\n",
      "[Epoch 12] Ghi vào btc-price-zscore-30m: {'timestamp': '2025-05-01T07:48:53.952352', 'symbol': 'BTCUSDT', 'window': '30m', 'zscore_price': 2.0840001106262207, '_id': ObjectId('681327664019f532f7e28900')}\n",
      "[Epoch 12] Ghi vào btc-price-zscore-1h: {'timestamp': '2025-05-01T07:48:53.952352', 'symbol': 'BTCUSDT', 'window': '1h', 'zscore_price': 0.2809999883174896, '_id': ObjectId('681327664019f532f7e28901')}\n",
      "[Epoch 13] Ghi vào btc-price-zscore-30s: {'timestamp': '2025-05-01T07:49:03.960103', 'symbol': 'BTCUSDT', 'window': '30s', 'zscore_price': 2.2769999504089355, '_id': ObjectId('681327704019f532f7e28903')}\n",
      "[Epoch 13] Ghi vào btc-price-zscore-1m: {'timestamp': '2025-05-01T07:49:03.960103', 'symbol': 'BTCUSDT', 'window': '1m', 'zscore_price': 1.6160000562667847, '_id': ObjectId('681327704019f532f7e28904')}\n",
      "[Epoch 13] Ghi vào btc-price-zscore-5m: {'timestamp': '2025-05-01T07:49:03.960103', 'symbol': 'BTCUSDT', 'window': '5m', 'zscore_price': -1.7130000591278076, '_id': ObjectId('681327704019f532f7e28905')}\n",
      "[Epoch 13] Ghi vào btc-price-zscore-15m: {'timestamp': '2025-05-01T07:49:03.960103', 'symbol': 'BTCUSDT', 'window': '15m', 'zscore_price': 2.255000114440918, '_id': ObjectId('681327704019f532f7e28906')}\n",
      "[Epoch 13] Ghi vào btc-price-zscore-30m: {'timestamp': '2025-05-01T07:49:03.960103', 'symbol': 'BTCUSDT', 'window': '30m', 'zscore_price': 2.375999927520752, '_id': ObjectId('681327704019f532f7e28907')}\n",
      "[Epoch 13] Ghi vào btc-price-zscore-1h: {'timestamp': '2025-05-01T07:49:03.960103', 'symbol': 'BTCUSDT', 'window': '1h', 'zscore_price': 1.8329999446868896, '_id': ObjectId('681327704019f532f7e28908')}\n",
      "[Epoch 14] Ghi vào btc-price-zscore-30s: {'timestamp': '2025-05-01T07:49:13.970642', 'symbol': 'BTCUSDT', 'window': '30s', 'zscore_price': 1.274999976158142, '_id': ObjectId('6813277a4019f532f7e2890a')}\n",
      "[Epoch 14] Ghi vào btc-price-zscore-1m: {'timestamp': '2025-05-01T07:49:13.970642', 'symbol': 'BTCUSDT', 'window': '1m', 'zscore_price': -0.703000009059906, '_id': ObjectId('6813277a4019f532f7e2890b')}\n",
      "[Epoch 14] Ghi vào btc-price-zscore-5m: {'timestamp': '2025-05-01T07:49:13.970642', 'symbol': 'BTCUSDT', 'window': '5m', 'zscore_price': -1.9429999589920044, '_id': ObjectId('6813277a4019f532f7e2890c')}\n",
      "[Epoch 14] Ghi vào btc-price-zscore-15m: {'timestamp': '2025-05-01T07:49:13.970642', 'symbol': 'BTCUSDT', 'window': '15m', 'zscore_price': -1.2330000400543213, '_id': ObjectId('6813277a4019f532f7e2890d')}\n",
      "[Epoch 14] Ghi vào btc-price-zscore-30m: {'timestamp': '2025-05-01T07:49:13.970642', 'symbol': 'BTCUSDT', 'window': '30m', 'zscore_price': 1.0509999990463257, '_id': ObjectId('6813277a4019f532f7e2890e')}\n",
      "[Epoch 14] Ghi vào btc-price-zscore-1h: {'timestamp': '2025-05-01T07:49:13.970642', 'symbol': 'BTCUSDT', 'window': '1h', 'zscore_price': -0.49399998784065247, '_id': ObjectId('6813277a4019f532f7e2890f')}\n",
      "[Epoch 15] Ghi vào btc-price-zscore-30s: {'timestamp': '2025-05-01T07:49:24.095092', 'symbol': 'BTCUSDT', 'window': '30s', 'zscore_price': -1.0019999742507935, '_id': ObjectId('681327844019f532f7e28911')}\n",
      "[Epoch 15] Ghi vào btc-price-zscore-1m: {'timestamp': '2025-05-01T07:49:24.095092', 'symbol': 'BTCUSDT', 'window': '1m', 'zscore_price': 0.27799999713897705, '_id': ObjectId('681327844019f532f7e28912')}\n",
      "[Epoch 15] Ghi vào btc-price-zscore-5m: {'timestamp': '2025-05-01T07:49:24.095092', 'symbol': 'BTCUSDT', 'window': '5m', 'zscore_price': 1.8930000066757202, '_id': ObjectId('681327844019f532f7e28913')}\n",
      "[Epoch 15] Ghi vào btc-price-zscore-15m: {'timestamp': '2025-05-01T07:49:24.095092', 'symbol': 'BTCUSDT', 'window': '15m', 'zscore_price': -1.7940000295639038, '_id': ObjectId('681327844019f532f7e28914')}\n",
      "[Epoch 15] Ghi vào btc-price-zscore-30m: {'timestamp': '2025-05-01T07:49:24.095092', 'symbol': 'BTCUSDT', 'window': '30m', 'zscore_price': 0.8080000281333923, '_id': ObjectId('681327844019f532f7e28915')}\n",
      "[Epoch 15] Ghi vào btc-price-zscore-1h: {'timestamp': '2025-05-01T07:49:24.095092', 'symbol': 'BTCUSDT', 'window': '1h', 'zscore_price': -0.18799999356269836, '_id': ObjectId('681327844019f532f7e28916')}\n",
      "[Epoch 16] Ghi vào btc-price-zscore-30s: {'timestamp': '2025-05-01T07:49:34.104072', 'symbol': 'BTCUSDT', 'window': '30s', 'zscore_price': 1.9910000562667847, '_id': ObjectId('6813278e4019f532f7e28918')}\n",
      "[Epoch 16] Ghi vào btc-price-zscore-1m: {'timestamp': '2025-05-01T07:49:34.104072', 'symbol': 'BTCUSDT', 'window': '1m', 'zscore_price': 0.9860000014305115, '_id': ObjectId('6813278e4019f532f7e28919')}\n",
      "[Epoch 16] Ghi vào btc-price-zscore-5m: {'timestamp': '2025-05-01T07:49:34.104072', 'symbol': 'BTCUSDT', 'window': '5m', 'zscore_price': -1.1299999952316284, '_id': ObjectId('6813278e4019f532f7e2891a')}\n",
      "[Epoch 16] Ghi vào btc-price-zscore-15m: {'timestamp': '2025-05-01T07:49:34.104072', 'symbol': 'BTCUSDT', 'window': '15m', 'zscore_price': 0.5040000081062317, '_id': ObjectId('6813278e4019f532f7e2891b')}\n",
      "[Epoch 16] Ghi vào btc-price-zscore-30m: {'timestamp': '2025-05-01T07:49:34.104072', 'symbol': 'BTCUSDT', 'window': '30m', 'zscore_price': -0.5180000066757202, '_id': ObjectId('6813278e4019f532f7e2891c')}\n",
      "[Epoch 16] Ghi vào btc-price-zscore-1h: {'timestamp': '2025-05-01T07:49:34.104072', 'symbol': 'BTCUSDT', 'window': '1h', 'zscore_price': 0.367000013589859, '_id': ObjectId('6813278e4019f532f7e2891d')}\n",
      "[Epoch 17] Ghi vào btc-price-zscore-30s: {'timestamp': '2025-05-01T07:49:44.109166', 'symbol': 'BTCUSDT', 'window': '30s', 'zscore_price': 1.2519999742507935, '_id': ObjectId('681327984019f532f7e2891f')}\n",
      "[Epoch 17] Ghi vào btc-price-zscore-1m: {'timestamp': '2025-05-01T07:49:44.109166', 'symbol': 'BTCUSDT', 'window': '1m', 'zscore_price': -2.4110000133514404, '_id': ObjectId('681327984019f532f7e28920')}\n",
      "[Epoch 17] Ghi vào btc-price-zscore-5m: {'timestamp': '2025-05-01T07:49:44.109166', 'symbol': 'BTCUSDT', 'window': '5m', 'zscore_price': -0.28200000524520874, '_id': ObjectId('681327984019f532f7e28921')}\n",
      "[Epoch 17] Ghi vào btc-price-zscore-15m: {'timestamp': '2025-05-01T07:49:44.109166', 'symbol': 'BTCUSDT', 'window': '15m', 'zscore_price': -1.5099999904632568, '_id': ObjectId('681327984019f532f7e28922')}\n",
      "[Epoch 17] Ghi vào btc-price-zscore-30m: {'timestamp': '2025-05-01T07:49:44.109166', 'symbol': 'BTCUSDT', 'window': '30m', 'zscore_price': -0.5059999823570251, '_id': ObjectId('681327984019f532f7e28923')}\n",
      "[Epoch 17] Ghi vào btc-price-zscore-1h: {'timestamp': '2025-05-01T07:49:44.109166', 'symbol': 'BTCUSDT', 'window': '1h', 'zscore_price': -0.4690000116825104, '_id': ObjectId('681327984019f532f7e28924')}\n",
      "[Epoch 18] Ghi vào btc-price-zscore-30s: {'timestamp': '2025-05-01T07:49:54.136844', 'symbol': 'BTCUSDT', 'window': '30s', 'zscore_price': 2.3550000190734863, '_id': ObjectId('681327a24019f532f7e28926')}\n",
      "[Epoch 18] Ghi vào btc-price-zscore-1m: {'timestamp': '2025-05-01T07:49:54.136844', 'symbol': 'BTCUSDT', 'window': '1m', 'zscore_price': 0.4339999854564667, '_id': ObjectId('681327a24019f532f7e28927')}\n",
      "[Epoch 18] Ghi vào btc-price-zscore-5m: {'timestamp': '2025-05-01T07:49:54.136844', 'symbol': 'BTCUSDT', 'window': '5m', 'zscore_price': 2.4189999103546143, '_id': ObjectId('681327a24019f532f7e28928')}\n",
      "[Epoch 18] Ghi vào btc-price-zscore-15m: {'timestamp': '2025-05-01T07:49:54.136844', 'symbol': 'BTCUSDT', 'window': '15m', 'zscore_price': 1.7070000171661377, '_id': ObjectId('681327a24019f532f7e28929')}\n",
      "[Epoch 18] Ghi vào btc-price-zscore-30m: {'timestamp': '2025-05-01T07:49:54.136844', 'symbol': 'BTCUSDT', 'window': '30m', 'zscore_price': -0.8330000042915344, '_id': ObjectId('681327a24019f532f7e2892a')}\n",
      "[Epoch 18] Ghi vào btc-price-zscore-1h: {'timestamp': '2025-05-01T07:49:54.136844', 'symbol': 'BTCUSDT', 'window': '1h', 'zscore_price': -2.4590001106262207, '_id': ObjectId('681327a24019f532f7e2892b')}\n",
      "[Epoch 19] Ghi vào btc-price-zscore-30s: {'timestamp': '2025-05-01T07:50:04.183328', 'symbol': 'BTCUSDT', 'window': '30s', 'zscore_price': -0.7879999876022339, '_id': ObjectId('681327ac4019f532f7e2892d')}\n",
      "[Epoch 19] Ghi vào btc-price-zscore-1m: {'timestamp': '2025-05-01T07:50:04.183328', 'symbol': 'BTCUSDT', 'window': '1m', 'zscore_price': -0.8790000081062317, '_id': ObjectId('681327ac4019f532f7e2892e')}\n",
      "[Epoch 19] Ghi vào btc-price-zscore-5m: {'timestamp': '2025-05-01T07:50:04.183328', 'symbol': 'BTCUSDT', 'window': '5m', 'zscore_price': 2.309999942779541, '_id': ObjectId('681327ac4019f532f7e2892f')}\n",
      "[Epoch 19] Ghi vào btc-price-zscore-15m: {'timestamp': '2025-05-01T07:50:04.183328', 'symbol': 'BTCUSDT', 'window': '15m', 'zscore_price': -1.3730000257492065, '_id': ObjectId('681327ac4019f532f7e28930')}\n",
      "[Epoch 19] Ghi vào btc-price-zscore-30m: {'timestamp': '2025-05-01T07:50:04.183328', 'symbol': 'BTCUSDT', 'window': '30m', 'zscore_price': -2.174999952316284, '_id': ObjectId('681327ac4019f532f7e28931')}\n",
      "[Epoch 19] Ghi vào btc-price-zscore-1h: {'timestamp': '2025-05-01T07:50:04.183328', 'symbol': 'BTCUSDT', 'window': '1h', 'zscore_price': 0.39399999380111694, '_id': ObjectId('681327ac4019f532f7e28932')}\n",
      "[Epoch 20] Ghi vào btc-price-zscore-30s: {'timestamp': '2025-05-01T07:50:14.184943', 'symbol': 'BTCUSDT', 'window': '30s', 'zscore_price': -2.365000009536743, '_id': ObjectId('681327b64019f532f7e28934')}\n",
      "[Epoch 20] Ghi vào btc-price-zscore-1m: {'timestamp': '2025-05-01T07:50:14.184943', 'symbol': 'BTCUSDT', 'window': '1m', 'zscore_price': -1.9589999914169312, '_id': ObjectId('681327b64019f532f7e28935')}\n",
      "[Epoch 20] Ghi vào btc-price-zscore-5m: {'timestamp': '2025-05-01T07:50:14.184943', 'symbol': 'BTCUSDT', 'window': '5m', 'zscore_price': -0.3059999942779541, '_id': ObjectId('681327b64019f532f7e28936')}\n",
      "[Epoch 20] Ghi vào btc-price-zscore-15m: {'timestamp': '2025-05-01T07:50:14.184943', 'symbol': 'BTCUSDT', 'window': '15m', 'zscore_price': 2.246999979019165, '_id': ObjectId('681327b64019f532f7e28937')}\n",
      "[Epoch 20] Ghi vào btc-price-zscore-30m: {'timestamp': '2025-05-01T07:50:14.184943', 'symbol': 'BTCUSDT', 'window': '30m', 'zscore_price': 1.8930000066757202, '_id': ObjectId('681327b64019f532f7e28938')}\n",
      "[Epoch 20] Ghi vào btc-price-zscore-1h: {'timestamp': '2025-05-01T07:50:14.184943', 'symbol': 'BTCUSDT', 'window': '1h', 'zscore_price': 1.7020000219345093, '_id': ObjectId('681327b64019f532f7e28939')}\n",
      "[Epoch 21] Ghi vào btc-price-zscore-30s: {'timestamp': '2025-05-01T07:50:24.284218', 'symbol': 'BTCUSDT', 'window': '30s', 'zscore_price': 1.3320000171661377, '_id': ObjectId('681327c04019f532f7e2893b')}\n",
      "[Epoch 21] Ghi vào btc-price-zscore-1m: {'timestamp': '2025-05-01T07:50:24.284218', 'symbol': 'BTCUSDT', 'window': '1m', 'zscore_price': -2.4089999198913574, '_id': ObjectId('681327c04019f532f7e2893c')}\n",
      "[Epoch 21] Ghi vào btc-price-zscore-5m: {'timestamp': '2025-05-01T07:50:24.284218', 'symbol': 'BTCUSDT', 'window': '5m', 'zscore_price': 0.16500000655651093, '_id': ObjectId('681327c04019f532f7e2893d')}\n",
      "[Epoch 21] Ghi vào btc-price-zscore-15m: {'timestamp': '2025-05-01T07:50:24.284218', 'symbol': 'BTCUSDT', 'window': '15m', 'zscore_price': -1.9249999523162842, '_id': ObjectId('681327c04019f532f7e2893e')}\n",
      "[Epoch 21] Ghi vào btc-price-zscore-30m: {'timestamp': '2025-05-01T07:50:24.284218', 'symbol': 'BTCUSDT', 'window': '30m', 'zscore_price': -2.1070001125335693, '_id': ObjectId('681327c04019f532f7e2893f')}\n",
      "[Epoch 21] Ghi vào btc-price-zscore-1h: {'timestamp': '2025-05-01T07:50:24.284218', 'symbol': 'BTCUSDT', 'window': '1h', 'zscore_price': -1.4609999656677246, '_id': ObjectId('681327c04019f532f7e28940')}\n",
      "[Epoch 22] Ghi vào btc-price-zscore-30s: {'timestamp': '2025-05-01T07:50:34.287406', 'symbol': 'BTCUSDT', 'window': '30s', 'zscore_price': 0.828000009059906, '_id': ObjectId('681327ca4019f532f7e28942')}\n",
      "[Epoch 22] Ghi vào btc-price-zscore-1m: {'timestamp': '2025-05-01T07:50:34.287406', 'symbol': 'BTCUSDT', 'window': '1m', 'zscore_price': -1.649999976158142, '_id': ObjectId('681327ca4019f532f7e28943')}\n",
      "[Epoch 22] Ghi vào btc-price-zscore-5m: {'timestamp': '2025-05-01T07:50:34.287406', 'symbol': 'BTCUSDT', 'window': '5m', 'zscore_price': -2.2739999294281006, '_id': ObjectId('681327ca4019f532f7e28944')}\n",
      "[Epoch 22] Ghi vào btc-price-zscore-15m: {'timestamp': '2025-05-01T07:50:34.287406', 'symbol': 'BTCUSDT', 'window': '15m', 'zscore_price': 2.313999891281128, '_id': ObjectId('681327ca4019f532f7e28945')}\n",
      "[Epoch 22] Ghi vào btc-price-zscore-30m: {'timestamp': '2025-05-01T07:50:34.287406', 'symbol': 'BTCUSDT', 'window': '30m', 'zscore_price': -1.4539999961853027, '_id': ObjectId('681327ca4019f532f7e28946')}\n",
      "[Epoch 22] Ghi vào btc-price-zscore-1h: {'timestamp': '2025-05-01T07:50:34.287406', 'symbol': 'BTCUSDT', 'window': '1h', 'zscore_price': -2.003999948501587, '_id': ObjectId('681327ca4019f532f7e28947')}\n",
      "[Epoch 23] Ghi vào btc-price-zscore-30s: {'timestamp': '2025-05-01T07:50:44.333650', 'symbol': 'BTCUSDT', 'window': '30s', 'zscore_price': -1.899999976158142, '_id': ObjectId('681327d44019f532f7e28949')}\n",
      "[Epoch 23] Ghi vào btc-price-zscore-1m: {'timestamp': '2025-05-01T07:50:44.333650', 'symbol': 'BTCUSDT', 'window': '1m', 'zscore_price': 1.2170000076293945, '_id': ObjectId('681327d44019f532f7e2894a')}\n",
      "[Epoch 23] Ghi vào btc-price-zscore-5m: {'timestamp': '2025-05-01T07:50:44.333650', 'symbol': 'BTCUSDT', 'window': '5m', 'zscore_price': 1.437999963760376, '_id': ObjectId('681327d44019f532f7e2894b')}\n",
      "[Epoch 23] Ghi vào btc-price-zscore-15m: {'timestamp': '2025-05-01T07:50:44.333650', 'symbol': 'BTCUSDT', 'window': '15m', 'zscore_price': -1.36899995803833, '_id': ObjectId('681327d44019f532f7e2894c')}\n",
      "[Epoch 23] Ghi vào btc-price-zscore-30m: {'timestamp': '2025-05-01T07:50:44.333650', 'symbol': 'BTCUSDT', 'window': '30m', 'zscore_price': -1.6729999780654907, '_id': ObjectId('681327d44019f532f7e2894d')}\n",
      "[Epoch 23] Ghi vào btc-price-zscore-1h: {'timestamp': '2025-05-01T07:50:44.333650', 'symbol': 'BTCUSDT', 'window': '1h', 'zscore_price': -0.35899999737739563, '_id': ObjectId('681327d44019f532f7e2894e')}\n",
      "[Epoch 24] Ghi vào btc-price-zscore-30s: {'timestamp': '2025-05-01T07:50:54.512050', 'symbol': 'BTCUSDT', 'window': '30s', 'zscore_price': 2.309000015258789, '_id': ObjectId('681327df4019f532f7e28950')}\n",
      "[Epoch 24] Ghi vào btc-price-zscore-1m: {'timestamp': '2025-05-01T07:50:54.512050', 'symbol': 'BTCUSDT', 'window': '1m', 'zscore_price': -0.27900001406669617, '_id': ObjectId('681327df4019f532f7e28951')}\n",
      "[Epoch 24] Ghi vào btc-price-zscore-5m: {'timestamp': '2025-05-01T07:50:54.512050', 'symbol': 'BTCUSDT', 'window': '5m', 'zscore_price': -1.7869999408721924, '_id': ObjectId('681327df4019f532f7e28952')}\n",
      "[Epoch 24] Ghi vào btc-price-zscore-15m: {'timestamp': '2025-05-01T07:50:54.512050', 'symbol': 'BTCUSDT', 'window': '15m', 'zscore_price': -1.0870000123977661, '_id': ObjectId('681327df4019f532f7e28953')}\n",
      "[Epoch 24] Ghi vào btc-price-zscore-30m: {'timestamp': '2025-05-01T07:50:54.512050', 'symbol': 'BTCUSDT', 'window': '30m', 'zscore_price': -2.3529999256134033, '_id': ObjectId('681327df4019f532f7e28954')}\n",
      "[Epoch 24] Ghi vào btc-price-zscore-1h: {'timestamp': '2025-05-01T07:50:54.512050', 'symbol': 'BTCUSDT', 'window': '1h', 'zscore_price': 1.2419999837875366, '_id': ObjectId('681327df4019f532f7e28955')}\n",
      "[Epoch 25] Ghi vào btc-price-zscore-30s: {'timestamp': '2025-05-01T07:51:04.522817', 'symbol': 'BTCUSDT', 'window': '30s', 'zscore_price': 2.318000078201294, '_id': ObjectId('681327e94019f532f7e28957')}\n",
      "[Epoch 25] Ghi vào btc-price-zscore-1m: {'timestamp': '2025-05-01T07:51:04.522817', 'symbol': 'BTCUSDT', 'window': '1m', 'zscore_price': 1.8890000581741333, '_id': ObjectId('681327e94019f532f7e28958')}\n",
      "[Epoch 25] Ghi vào btc-price-zscore-5m: {'timestamp': '2025-05-01T07:51:04.522817', 'symbol': 'BTCUSDT', 'window': '5m', 'zscore_price': -2.3570001125335693, '_id': ObjectId('681327e94019f532f7e28959')}\n",
      "[Epoch 25] Ghi vào btc-price-zscore-15m: {'timestamp': '2025-05-01T07:51:04.522817', 'symbol': 'BTCUSDT', 'window': '15m', 'zscore_price': 1.187000036239624, '_id': ObjectId('681327e94019f532f7e2895a')}\n",
      "[Epoch 25] Ghi vào btc-price-zscore-30m: {'timestamp': '2025-05-01T07:51:04.522817', 'symbol': 'BTCUSDT', 'window': '30m', 'zscore_price': 1.253000020980835, '_id': ObjectId('681327e94019f532f7e2895b')}\n",
      "[Epoch 25] Ghi vào btc-price-zscore-1h: {'timestamp': '2025-05-01T07:51:04.522817', 'symbol': 'BTCUSDT', 'window': '1h', 'zscore_price': -1.9830000400543213, '_id': ObjectId('681327e94019f532f7e2895c')}\n",
      "[Epoch 26] Ghi vào btc-price-zscore-30s: {'timestamp': '2025-05-01T07:51:14.546165', 'symbol': 'BTCUSDT', 'window': '30s', 'zscore_price': -1.9759999513626099, '_id': ObjectId('681327f34019f532f7e2895e')}\n",
      "[Epoch 26] Ghi vào btc-price-zscore-1m: {'timestamp': '2025-05-01T07:51:14.546165', 'symbol': 'BTCUSDT', 'window': '1m', 'zscore_price': -2.244999885559082, '_id': ObjectId('681327f34019f532f7e2895f')}\n",
      "[Epoch 26] Ghi vào btc-price-zscore-5m: {'timestamp': '2025-05-01T07:51:14.546165', 'symbol': 'BTCUSDT', 'window': '5m', 'zscore_price': -1.5609999895095825, '_id': ObjectId('681327f34019f532f7e28960')}\n",
      "[Epoch 26] Ghi vào btc-price-zscore-15m: {'timestamp': '2025-05-01T07:51:14.546165', 'symbol': 'BTCUSDT', 'window': '15m', 'zscore_price': -0.8629999756813049, '_id': ObjectId('681327f34019f532f7e28961')}\n",
      "[Epoch 26] Ghi vào btc-price-zscore-30m: {'timestamp': '2025-05-01T07:51:14.546165', 'symbol': 'BTCUSDT', 'window': '30m', 'zscore_price': 2.2009999752044678, '_id': ObjectId('681327f34019f532f7e28962')}\n",
      "[Epoch 26] Ghi vào btc-price-zscore-1h: {'timestamp': '2025-05-01T07:51:14.546165', 'symbol': 'BTCUSDT', 'window': '1h', 'zscore_price': -1.475000023841858, '_id': ObjectId('681327f34019f532f7e28963')}\n"
     ]
    }
   ],
   "source": [
    "query = watermarked_df.writeStream \\\n",
    "    .foreachBatch(write_to_mongo) \\\n",
    "    .outputMode(\"append\") \\\n",
    "    .start()\n",
    "\n",
    "query.awaitTermination()\n"
   ]
  }
 ],
 "metadata": {
  "kernelspec": {
   "display_name": "base",
   "language": "python",
   "name": "python3"
  },
  "language_info": {
   "codemirror_mode": {
    "name": "ipython",
    "version": 3
   },
   "file_extension": ".py",
   "mimetype": "text/x-python",
   "name": "python",
   "nbconvert_exporter": "python",
   "pygments_lexer": "ipython3",
   "version": "3.12.9"
  }
 },
 "nbformat": 4,
 "nbformat_minor": 2
}
