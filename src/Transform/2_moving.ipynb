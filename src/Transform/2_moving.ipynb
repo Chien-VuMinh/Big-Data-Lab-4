{
 "cells": [
  {
   "cell_type": "markdown",
   "id": "c8763b2b",
   "metadata": {},
   "source": [
    "Imports & Logging\n"
   ]
  },
  {
   "cell_type": "code",
   "execution_count": null,
   "id": "9cbd443e",
   "metadata": {},
   "outputs": [],
   "source": [
    "import json\n",
    "import logging\n",
    "\n",
    "from pyspark.sql import SparkSession\n",
    "from pyspark.sql.functions import *\n",
    "from pyspark.sql.types import *\n",
    "\n",
    "logging.basicConfig(level=logging.INFO)\n",
    "logger = logging.getLogger(__name__)"
   ]
  },
  {
   "cell_type": "markdown",
   "id": "d91c7a1f",
   "metadata": {},
   "source": [
    "- SparkSession"
   ]
  },
  {
   "cell_type": "code",
   "execution_count": null,
   "id": "d72c73a7",
   "metadata": {},
   "outputs": [],
   "source": [
    "spark = SparkSession.builder \\\n",
    "    .appName(\"BTC Price Moving Stats\") \\\n",
    "    .config(\"spark.sql.shuffle.partitions\", \"2\") \\\n",
    "    .config(\"spark.jars.packages\", \"org.apache.spark:spark-sql-kafka-0-10_2.12:3.5.5\") \\\n",
    "    .config(\"spark.hadoop.fs.file.impl\", \"org.apache.hadoop.fs.LocalFileSystem\") \\\n",
    "    .config(\"spark.hadoop.fs.hdfs.impl\", \"org.apache.hadoop.fs.LocalFileSystem\") \\\n",
    "    .config(\"spark.driver.extraJavaOptions\", \"-Dhadoop.home.dir=D:/hadoop\") \\\n",
    "    .config(\"spark.sql.session.timeZone\", \"UTC\") \\\n",
    "    .getOrCreate()\n",
    "\n",
    "# Chỉ show WARN+ để bớt log plan\n",
    "spark.sparkContext.setLogLevel(\"WARN\")"
   ]
  },
  {
   "cell_type": "markdown",
   "id": "28bcc37e",
   "metadata": {},
   "source": [
    "- Define functions"
   ]
  },
  {
   "cell_type": "code",
   "execution_count": null,
   "id": "c69eae49",
   "metadata": {},
   "outputs": [],
   "source": [
    "schema = StructType([\n",
    "    StructField(\"symbol\", StringType(), True),\n",
    "    StructField(\"price\", DoubleType(), True),\n",
    "    StructField(\"timestamp\", StringType(), True)  # ISO format expected\n",
    "])\n",
    "\n",
    "df = spark.readStream \\\n",
    "    .format(\"kafka\") \\\n",
    "    .option(\"kafka.bootstrap.servers\", \"localhost:9092\") \\\n",
    "    .option(\"subscribe\", \"btc-price\") \\\n",
    "    .option(\"startingOffsets\", \"latest\") \\\n",
    "    .load()\n",
    "\n",
    "\n",
    "parsed_df = df.select(\n",
    "    from_json(col(\"value\").cast(\"string\"), schema).alias(\"data\")\n",
    ").select(\"data.*\") \\\n",
    " .withColumn(\"event_time\", to_timestamp(col(\"timestamp\")))\n",
    "\n",
    "\n",
    "\n",
    "# Danh sách các cửa sổ\n",
    "windows = [\n",
    "    (\"30 seconds\", \"10 seconds\"),\n",
    "    (\"1 minute\",   \"10 seconds\"),\n",
    "    (\"5 minutes\",  \"10 seconds\"),\n",
    "    (\"15 minutes\", \"10 seconds\"),\n",
    "    (\"30 minutes\", \"10 seconds\"),\n",
    "    (\"1 hour\",     \"10 seconds\")\n",
    "]\n",
    "\n",
    "result_df = None\n",
    "for window_size, slide_size in windows:\n",
    "    window_df = parsed_df \\\n",
    "        .withWatermark(\"event_time\", \"1 minute\") \\\n",
    "        .groupBy(\n",
    "            window(\"event_time\", window_size, slide_size),\n",
    "            col(\"symbol\")\n",
    "        ) \\\n",
    "        .agg(\n",
    "            avg(\"price\").alias(\"avg_price\"),\n",
    "            stddev(\"price\").alias(\"std_price\")\n",
    "        ) \\\n",
    "        .select(\n",
    "            col(\"window.end\").alias(\"window_end\"),\n",
    "            col(\"symbol\"),\n",
    "            lit(window_size.split(\" \")[0] + window_size.split(\" \")[1][0]).alias(\"window\"),\n",
    "            col(\"avg_price\"),\n",
    "            col(\"std_price\")\n",
    "        )\n",
    "    \n",
    "    result_df = window_df if result_df is None else result_df.union(window_df)"
   ]
  },
  {
   "cell_type": "markdown",
   "id": "0f2a4438",
   "metadata": {},
   "source": [
    "- Main"
   ]
  },
  {
   "cell_type": "code",
   "execution_count": null,
   "id": "a6fc7761",
   "metadata": {},
   "outputs": [],
   "source": [
    "output_df = result_df \\\n",
    "    .withColumn(\"timestamp\", date_format(col(\"window_end\"),\n",
    "                                         \"yyyy-MM-dd'T'HH:mm:ss.SSS'Z'\")) \\\n",
    "    .groupBy(\"timestamp\", \"symbol\") \\\n",
    "    .agg(\n",
    "        collect_list(\n",
    "            struct(\"window\", \"avg_price\", \"std_price\")\n",
    "        ).alias(\"stats\")\n",
    "    )\n",
    "\n",
    "query = output_df \\\n",
    "    .selectExpr(\"to_json(struct(*)) AS value\") \\\n",
    "    .writeStream \\\n",
    "    .format(\"kafka\") \\\n",
    "    .option(\"kafka.bootstrap.servers\", \"localhost:9092\") \\\n",
    "    .option(\"topic\", \"btc-price-moving\") \\\n",
    "    .option(\"checkpointLocation\", \"memory\") \\\n",
    "    .outputMode(\"append\") \\\n",
    "    .trigger(processingTime=\"5 seconds\") \\\n",
    "    .start()\n",
    "\n",
    "logger.info(\"Moving Stats Streaming started\")\n",
    "query.awaitTermination()"
   ]
  }
 ],
 "metadata": {
  "kernelspec": {
   "display_name": "Python 3",
   "language": "python",
   "name": "python3"
  },
  "language_info": {
   "codemirror_mode": {
    "name": "ipython",
    "version": 3
   },
   "file_extension": ".py",
   "mimetype": "text/x-python",
   "name": "python",
   "nbconvert_exporter": "python",
   "pygments_lexer": "ipython3",
   "version": "3.12.10"
  }
 },
 "nbformat": 4,
 "nbformat_minor": 5
}
