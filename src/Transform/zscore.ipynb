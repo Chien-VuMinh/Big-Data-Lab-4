{
 "cells": [
  {
   "cell_type": "markdown",
   "id": "8861d361",
   "metadata": {},
   "source": [
    "Imports & Logging"
   ]
  },
  {
   "cell_type": "code",
   "execution_count": null,
   "id": "07eefc1d",
   "metadata": {
    "vscode": {
     "languageId": "plaintext"
    }
   },
   "outputs": [],
   "source": [
    "import json\n",
    "import logging\n",
    "\n",
    "from pyspark.sql import SparkSession\n",
    "from pyspark.sql.functions import *\n",
    "from pyspark.sql.types import *\n",
    "\n",
    "logging.basicConfig(level=logging.INFO)\n",
    "logger = logging.getLogger(__name__)\n"
   ]
  },
  {
   "cell_type": "markdown",
   "id": "646917d9",
   "metadata": {},
   "source": [
    "Khởi tạo SparkSession"
   ]
  },
  {
   "cell_type": "code",
   "execution_count": null,
   "id": "381ef25f",
   "metadata": {
    "vscode": {
     "languageId": "plaintext"
    }
   },
   "outputs": [],
   "source": [
    "spark = SparkSession.builder \\\n",
    "    .appName(\"BTC Price Z-Score\") \\\n",
    "    .config(\"spark.sql.shuffle.partitions\", \"2\") \\\n",
    "    .config(\"spark.jars.packages\", \"org.apache.spark:spark-sql-kafka-0-10_2.12:3.5.5\") \\\n",
    "    .config(\"spark.hadoop.fs.file.impl\", \"org.apache.hadoop.fs.LocalFileSystem\") \\\n",
    "    .config(\"spark.hadoop.fs.hdfs.impl\", \"org.apache.hadoop.fs.LocalFileSystem\") \\\n",
    "    .config(\"spark.driver.extraJavaOptions\", \"-Dhadoop.home.dir=D:/minhanh/env\") \\\n",
    "    .getOrCreate()\n",
    "\n",
    "# Chỉ show WARN+ để bớt log\n",
    "spark.sparkContext.setLogLevel(\"WARN\")\n"
   ]
  },
  {
   "cell_type": "markdown",
   "id": "7b9de4e7",
   "metadata": {},
   "source": [
    "Định nghĩa schema và đọc stream giá từ Kafka"
   ]
  },
  {
   "cell_type": "markdown",
   "id": "9e786f18",
   "metadata": {},
   "source": [
    "# Schema cho dữ liệu giá\n",
    "price_schema = StructType([\n",
    "    StructField(\"symbol\",    StringType(), True),\n",
    "    StructField(\"price\",     DoubleType(), True),\n",
    "    StructField(\"timestamp\", StringType(), True)\n",
    "])\n",
    "\n",
    "price_df = spark.readStream \\\n",
    "    .format(\"kafka\") \\\n",
    "    .option(\"kafka.bootstrap.servers\", \"localhost:9092\") \\\n",
    "    .option(\"subscribe\", \"btc-price\") \\\n",
    "    .option(\"startingOffsets\", \"latest\") \\\n",
    "    .load() \\\n",
    "    .select(from_json(col(\"value\").cast(\"string\"), price_schema).alias(\"data\")) \\\n",
    "    .select(\"data.*\") \\\n",
    "    .withColumn(\"timestamp\", to_timestamp(\"timestamp\"))\n"
   ]
  },
  {
   "cell_type": "markdown",
   "id": "0218ea22",
   "metadata": {},
   "source": [
    "Định nghĩa schema và đọc stream stats từ Kafka"
   ]
  },
  {
   "cell_type": "code",
   "execution_count": null,
   "id": "e51a39e7",
   "metadata": {
    "vscode": {
     "languageId": "plaintext"
    }
   },
   "outputs": [],
   "source": [
    "# Schema cho dữ liệu thống kê động\n",
    "stats_schema = StructType([\n",
    "    StructField(\"timestamp\", StringType(), True),\n",
    "    StructField(\"symbol\",    StringType(), True),\n",
    "    StructField(\"stats\",     ArrayType(\n",
    "        StructType([\n",
    "            StructField(\"window\",     StringType(), True),\n",
    "            StructField(\"avg_price\",  DoubleType(), True),\n",
    "            StructField(\"std_price\",  DoubleType(), True)\n",
    "        ])\n",
    "    ), True)\n",
    "])\n",
    "\n",
    "stats_df = spark.readStream \\\n",
    "    .format(\"kafka\") \\\n",
    "    .option(\"kafka.bootstrap.servers\", \"localhost:9092\") \\\n",
    "    .option(\"subscribe\", \"btc-price-moving\") \\\n",
    "    .option(\"startingOffsets\", \"latest\") \\\n",
    "    .load() \\\n",
    "    .select(from_json(col(\"value\").cast(\"string\"), stats_schema).alias(\"data\")) \\\n",
    "    .select(\"data.*\") \\\n",
    "    .withColumn(\"timestamp\", to_timestamp(\"timestamp\"))\n"
   ]
  },
  {
   "cell_type": "markdown",
   "id": "8911b6fd",
   "metadata": {},
   "source": [
    "Watermark & Join hai stream"
   ]
  },
  {
   "cell_type": "code",
   "execution_count": null,
   "id": "e6cf097f",
   "metadata": {
    "vscode": {
     "languageId": "plaintext"
    }
   },
   "outputs": [],
   "source": [
    "# Watermark để xử lý dữ liệu trễ tối đa 10s\n",
    "price_df = price_df.withWatermark(\"timestamp\", \"10 seconds\")\n",
    "stats_df = stats_df.withWatermark(\"timestamp\", \"10 seconds\")\n",
    "\n",
    "# Join trên timestamp và symbol\n",
    "joined_df = price_df.join(\n",
    "    stats_df,\n",
    "    (price_df.timestamp == stats_df.timestamp) &\n",
    "    (price_df.symbol   == stats_df.symbol),\n",
    "    \"inner\"\n",
    ")\n"
   ]
  },
  {
   "cell_type": "markdown",
   "id": "11cc45a6",
   "metadata": {},
   "source": [
    "Tính Z-Score & ghi kết quả về Kafka"
   ]
  },
  {
   "cell_type": "code",
   "execution_count": null,
   "id": "16c09779",
   "metadata": {
    "vscode": {
     "languageId": "plaintext"
    }
   },
   "outputs": [],
   "source": [
    "# UDF tính điểm Z cho mỗi cửa sổ\n",
    "def calculate_zscores(price, stats_array):\n",
    "    result = []\n",
    "    for stat in stats_array:\n",
    "        avg_price = stat[\"avg_price\"]\n",
    "        std_price = stat[\"std_price\"]\n",
    "        z = (price - avg_price) / std_price if std_price > 0 else 0.0\n",
    "        result.append({\"window\": stat[\"window\"], \"zscore_price\": z})\n",
    "    return result\n",
    "\n",
    "calculate_zscores_udf = udf(\n",
    "    calculate_zscores,\n",
    "    ArrayType(StructType([\n",
    "        StructField(\"window\",       StringType(), True),\n",
    "        StructField(\"zscore_price\", DoubleType(), True)\n",
    "    ]))\n",
    ")\n",
    "\n",
    "# Áp dụng và ghi stream\n",
    "output_df = joined_df.select(\n",
    "    price_df.timestamp,\n",
    "    price_df.symbol,\n",
    "    calculate_zscores_udf(price_df.price, stats_df.stats).alias(\"zscores\")\n",
    ")\n",
    "\n",
    "query = output_df \\\n",
    "    .selectExpr(\"to_json(struct(*)) AS value\") \\\n",
    "    .writeStream \\\n",
    "    .format(\"kafka\") \\\n",
    "    .option(\"kafka.bootstrap.servers\", \"localhost:9092\") \\\n",
    "    .option(\"topic\", \"btc-price-zscore\") \\\n",
    "    .option(\"checkpointLocation\", \"memory\") \\\n",
    "    .outputMode(\"append\") \\\n",
    "    .start()\n",
    "\n",
    "logger.info(\"Z-Score Streaming started\")\n",
    "query.awaitTermination()\n"
   ]
  }
 ],
 "metadata": {
  "language_info": {
   "name": "python"
  }
 },
 "nbformat": 4,
 "nbformat_minor": 5
}
