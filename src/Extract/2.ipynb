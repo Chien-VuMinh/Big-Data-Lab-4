{
 "cells": [
  {
   "cell_type": "markdown",
   "id": "71500754",
   "metadata": {},
   "source": [
    "# Extract"
   ]
  },
  {
   "cell_type": "markdown",
   "id": "04a01c97",
   "metadata": {},
   "source": [
    "- Import libraries"
   ]
  },
  {
   "cell_type": "code",
   "execution_count": null,
   "id": "4d3eec80",
   "metadata": {},
   "outputs": [],
   "source": [
    "import time\n",
    "import json\n",
    "import requests\n",
    "from kafka import KafkaProducer\n",
    "from datetime import datetime\n",
    "import logging"
   ]
  },
  {
   "cell_type": "markdown",
   "id": "cc3b7cd2",
   "metadata": {},
   "source": [
    "- Define functions"
   ]
  },
  {
   "cell_type": "code",
   "execution_count": null,
   "id": "d507bc89",
   "metadata": {},
   "outputs": [],
   "source": [
    "# Configure logging\n",
    "logging.basicConfig(level=logging.INFO)\n",
    "logger = logging.getLogger(__name__)\n",
    "\n",
    "# Binance API endpoint for symbol price\n",
    "BINANCE_API_URL = \"https://api.binance.com/api/v3/ticker/price\"\n",
    "SYMBOL = \"BTCUSDT\"\n",
    "KAFKA_TOPIC = \"btc-price\"\n",
    "KAFKA_BOOTSTRAP_SERVERS = ['localhost:9092']\n",
    "\n",
    "def create_kafka_producer():\n",
    "    try:\n",
    "        producer = KafkaProducer(\n",
    "            bootstrap_servers=KAFKA_BOOTSTRAP_SERVERS,\n",
    "            value_serializer=lambda v: json.dumps(v).encode('utf-8'),\n",
    "            retries=5,  # Thử lại 5 lần nếu gặp lỗi\n",
    "            retry_backoff_ms=500,  # Đợi 500ms giữa các lần thử lại\n",
    "            api_version=(0, 10, 1)  # Đảm bảo tương thích với Kafka 3.9.0\n",
    "        )\n",
    "        logger.info(\"Kafka producer created successfully\")\n",
    "        return producer\n",
    "    except Exception as e:\n",
    "        logger.error(f\"Failed to create Kafka producer: {e}\")\n",
    "        raise\n",
    "\n",
    "def fetch_binance_price():\n",
    "    try:\n",
    "        params = {'symbol': SYMBOL}\n",
    "        response = requests.get(BINANCE_API_URL, params=params, timeout=5)\n",
    "        response.raise_for_status()\n",
    "        data = response.json()\n",
    "        \n",
    "        # Validate JSON format\n",
    "        if not isinstance(data.get('symbol'), str) or not isinstance(data.get('price'), (str, float)):\n",
    "            raise ValueError(\"Invalid JSON format from Binance API\")\n",
    "        \n",
    "        # Convert price to float\n",
    "        price = float(data['price'])\n",
    "        \n",
    "        return {\n",
    "            'symbol': data['symbol'],\n",
    "            'price': price\n",
    "        }\n",
    "    except Exception as e:\n",
    "        logger.error(f\"Error fetching price from Binance: {e}\")\n",
    "        return None\n",
    "\n",
    "def main():\n",
    "    try:\n",
    "        producer = create_kafka_producer()\n",
    "        interval = 0.1  # 100 milliseconds\n",
    "        \n",
    "        while True:\n",
    "            start_time = time.time()\n",
    "            \n",
    "            # Fetch price data\n",
    "            price_data = fetch_binance_price()\n",
    "            \n",
    "            if price_data:\n",
    "                # Add event-time timestamp (ISO8601 format)\n",
    "                event_time = datetime.now().isoformat()\n",
    "                message = {\n",
    "                    'symbol': price_data['symbol'],\n",
    "                    'price': price_data['price'],\n",
    "                    'timestamp': event_time\n",
    "                }\n",
    "                \n",
    "                # Send to Kafka\n",
    "                try:\n",
    "                    producer.send(KAFKA_TOPIC, message)\n",
    "                    producer.flush()  # Đảm bảo tin nhắn được gửi ngay lập tức\n",
    "                    logger.info(f\"Sent message: {message}\")\n",
    "                except Exception as e:\n",
    "                    logger.error(f\"Error sending to Kafka: {e}\")\n",
    "            \n",
    "            # Maintain frequency (100ms)\n",
    "            elapsed = time.time() - start_time\n",
    "            if elapsed < interval:\n",
    "                time.sleep(interval - elapsed)\n",
    "                \n",
    "    except Exception as e:\n",
    "        logger.error(f\"Main loop failed: {e}\")\n",
    "        raise\n",
    "    finally:\n",
    "        logger.info(\"Closing Kafka producer\")\n",
    "        if 'producer' in locals():\n",
    "            producer.close()"
   ]
  },
  {
   "cell_type": "markdown",
   "id": "931e9893",
   "metadata": {},
   "source": [
    "- Main"
   ]
  },
  {
   "cell_type": "code",
   "execution_count": null,
   "id": "185ad7bb",
   "metadata": {},
   "outputs": [],
   "source": [
    "if __name__ == \"__main__\":\n",
    "    try:\n",
    "        main()\n",
    "    except KeyboardInterrupt:\n",
    "        logger.info(\"Shutting down producer\")\n",
    "    except Exception as e:\n",
    "        logger.error(f\"Producer failed: {e}\")"
   ]
  }
 ],
 "metadata": {
  "kernelspec": {
   "display_name": "Python 3",
   "language": "python",
   "name": "python3"
  },
  "language_info": {
   "codemirror_mode": {
    "name": "ipython",
    "version": 3
   },
   "file_extension": ".py",
   "mimetype": "text/x-python",
   "name": "python",
   "nbconvert_exporter": "python",
   "pygments_lexer": "ipython3",
   "version": "3.12.10"
  }
 },
 "nbformat": 4,
 "nbformat_minor": 5
}
